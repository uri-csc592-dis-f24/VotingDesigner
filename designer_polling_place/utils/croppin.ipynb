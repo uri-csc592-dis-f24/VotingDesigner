{
 "cells": [
  {
   "cell_type": "code",
   "execution_count": 161,
   "metadata": {},
   "outputs": [
    {
     "name": "stdout",
     "output_type": "stream",
     "text": [
      "(192, 600)\n"
     ]
    }
   ],
   "source": [
    "from PIL import Image\n",
    " \n",
    "# Opens a image in RGB mode\n",
    "im = Image.open(r\"assets/TES.png\")\n",
    " \n",
    "# Size of the image in pixels (size of original image)\n",
    "# (This is not mandatory)\n",
    "width, height = im.size\n",
    "print(im.size)\n"
   ]
  },
  {
   "cell_type": "code",
   "execution_count": 146,
   "metadata": {},
   "outputs": [],
   "source": [
    "import numpy as np"
   ]
  },
  {
   "cell_type": "code",
   "execution_count": 156,
   "metadata": {},
   "outputs": [
    {
     "name": "stdout",
     "output_type": "stream",
     "text": [
      "(600, 192, 4)\n",
      "(672, 192, 4)\n"
     ]
    }
   ],
   "source": [
    "image = np.array(im, dtype=np.uint8)\n",
    "print(image.shape)\n",
    "shirit = np.zeros((72,192,4))\n",
    "image = np.append(image,shirit,0)\n",
    "print(image.shape)\n"
   ]
  },
  {
   "cell_type": "code",
   "execution_count": 162,
   "metadata": {},
   "outputs": [],
   "source": [
    "\n",
    "for x in range(31):\n",
    "    for y in range(31):\n",
    "        if x>y:\n",
    "            image[672-32+x, 192-32+y] = image[192-32+x, 192-32+y]\n",
    "        if x<y:\n",
    "            image[672-32+x, 192-32-32+y] = image[192-32+x, 192-32-32+y]\n",
    "        if x+y<32:\n",
    "            image[672-32-32+x, 192-32+y] = image[192-32+x, 192-32+y]\n",
    "        if x+y>32:\n",
    "            image[672-32-32+x, 192-32-32+y] = image[192-32+x, 192-32+y]\n",
    "\n",
    "\n",
    "\n",
    "#new_im = Image.fromarray(image.astype('uint8'))\n",
    "#new_im.save(\"assets/new_TES.png\")"
   ]
  },
  {
   "cell_type": "code",
   "execution_count": 163,
   "metadata": {},
   "outputs": [],
   "source": [
    "im = Image.open(r\"assets/office.png\")\n",
    " \n",
    "# Size of the image in pixels (size of original image)\n",
    "# (This is not mandatory)\n",
    "width, height = im.size\n",
    "#print(im.size)\n",
    "left = 32\n",
    "top = 32*30\n",
    "right = 32*4\n",
    "bottom = 1696-32*21\n",
    "\n",
    "# Cropped image of above dimension \n",
    "# (It will not change original image) \n",
    "im1 = im.crop((left, top, right, bottom))\n",
    "im1.show()\n",
    "im1.save(\"assets/table.png\")"
   ]
  },
  {
   "cell_type": "code",
   "execution_count": 164,
   "metadata": {},
   "outputs": [],
   "source": [
    "im1 = np.array(im1, dtype=np.uint8)"
   ]
  },
  {
   "cell_type": "code",
   "execution_count": null,
   "metadata": {},
   "outputs": [],
   "source": [
    "for y in range(95):\n",
    "    for x in range(63):\n",
    "        image[x+608,y] = im1[x,y]\n",
    "\n",
    "final = Image.fromarray(image.astype('uint8'))\n",
    "final.show()"
   ]
  },
  {
   "cell_type": "code",
   "execution_count": 165,
   "metadata": {},
   "outputs": [],
   "source": [
    "final.save(\"assets/final_v2.png\")"
   ]
  },
  {
   "cell_type": "code",
   "execution_count": null,
   "metadata": {},
   "outputs": [],
   "source": []
  }
 ],
 "metadata": {
  "kernelspec": {
   "display_name": "Python 3",
   "language": "python",
   "name": "python3"
  },
  "language_info": {
   "codemirror_mode": {
    "name": "ipython",
    "version": 3
   },
   "file_extension": ".py",
   "mimetype": "text/x-python",
   "name": "python",
   "nbconvert_exporter": "python",
   "pygments_lexer": "ipython3",
   "version": "3.11.9"
  }
 },
 "nbformat": 4,
 "nbformat_minor": 2
}
